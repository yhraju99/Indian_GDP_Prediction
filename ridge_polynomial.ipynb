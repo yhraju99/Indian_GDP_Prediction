{
 "cells": [
  {
   "cell_type": "code",
   "execution_count": 11,
   "id": "97b2971b-5e97-4f7d-bdac-ee5226c0ce28",
   "metadata": {},
   "outputs": [
    {
     "name": "stdout",
     "output_type": "stream",
     "text": [
      "   Year  GDP in (Billion) $  Per Capita in rupees  Growth %\n",
      "0  2021             3173.40                182160      8.95\n",
      "1  2020             2667.69                154640     -6.60\n",
      "2  2019             2831.55                165760      3.74\n",
      "3  2018             2702.93                159840      6.45\n",
      "4  2017             2651.47                158480      6.80\n"
     ]
    }
   ],
   "source": [
    "import pandas as pd\n",
    "\n",
    "# Load the dataset\n",
    "file_path = r'C:\\Users\\HRUSHIKESH\\Downloads\\India_GDP_1960-2022.csv'  \n",
    "df = pd.read_csv(file_path)\n",
    "\n",
    "# Display the first few rows\n",
    "print(df.head())\n"
   ]
  },
  {
   "cell_type": "code",
   "execution_count": 12,
   "id": "efb9b527-7246-4ee0-97ba-cb2993aa6b87",
   "metadata": {},
   "outputs": [],
   "source": [
    "\n",
    "X = df[['Year', 'Per Capita in rupees', 'Growth %']]\n",
    "y=df['GDP in (Billion) $']"
   ]
  },
  {
   "cell_type": "code",
   "execution_count": 13,
   "id": "f130b4f7-ded8-456a-a33a-bfbd98ed711d",
   "metadata": {},
   "outputs": [
    {
     "name": "stdout",
     "output_type": "stream",
     "text": [
      "R-squared (Polynomial): 0.9969313770024639\n",
      "MSE (Polynomial): 3039.3680808629206\n",
      "Predicted GDP (Polynomial): 2956.881364097626\n"
     ]
    }
   ],
   "source": [
    "from sklearn.preprocessing import PolynomialFeatures, StandardScaler\n",
    "import pandas as pd\n",
    "from sklearn.linear_model import Ridge\n",
    "from sklearn.model_selection import train_test_split\n",
    "from sklearn.metrics import mean_squared_error, r2_score\n",
    "\n",
    "# Assuming X and y are already defined\n",
    "\n",
    "# Step 1: Scale the data\n",
    "scaler = StandardScaler()\n",
    "X_scaled = scaler.fit_transform(X)  # Fit and transform the original features\n",
    "\n",
    "# Step 2: Add polynomial features \n",
    "poly = PolynomialFeatures(degree=2, include_bias=False)\n",
    "X_poly = poly.fit_transform(X_scaled)\n",
    "\n",
    "# Step 3: Split into training and testing sets\n",
    "X_train_poly, X_test_poly, y_train, y_test = train_test_split(X_poly, y, test_size=0.2, random_state=42)\n",
    "\n",
    "# Step 4: Train Ridge Regression with polynomial features\n",
    "ridge_model_poly = Ridge(alpha=1.0)\n",
    "ridge_model_poly.fit(X_train_poly, y_train)\n",
    "\n",
    "# Step 5: Evaluate the model\n",
    "y_pred_poly = ridge_model_poly.predict(X_test_poly)\n",
    "print(\"R-squared (Polynomial):\", r2_score(y_test, y_pred_poly))\n",
    "print(\"MSE (Polynomial):\", mean_squared_error(y_test, y_pred_poly))\n",
    "\n",
    "# Step 6: Predict GDP for new data \n",
    "new_data = pd.DataFrame({'Year': [2025], 'Per Capita in rupees': [155320], 'Growth %': [6]})\n",
    "\n",
    "# Step 7: Scale the new data using the fitted scaler\n",
    "new_data_scaled = scaler.transform(new_data)\n",
    "\n",
    "# Step 8: Add polynomial features to the scaled new data\n",
    "new_data_poly = poly.transform(new_data_scaled)\n",
    "\n",
    "# Step 9: Predict GDP for the new data\n",
    "predicted_gdp_poly = ridge_model_poly.predict(new_data_poly)\n",
    "print(\"Predicted GDP (Polynomial):\", predicted_gdp_poly[0])\n"
   ]
  }
 ],
 "metadata": {
  "kernelspec": {
   "display_name": "Python 3 (ipykernel)",
   "language": "python",
   "name": "python3"
  },
  "language_info": {
   "codemirror_mode": {
    "name": "ipython",
    "version": 3
   },
   "file_extension": ".py",
   "mimetype": "text/x-python",
   "name": "python",
   "nbconvert_exporter": "python",
   "pygments_lexer": "ipython3",
   "version": "3.12.7"
  }
 },
 "nbformat": 4,
 "nbformat_minor": 5
}
