{
 "cells": [
  {
   "cell_type": "code",
   "execution_count": 1,
   "id": "c947de80-ce56-49eb-b548-4776b261b952",
   "metadata": {},
   "outputs": [
    {
     "name": "stdout",
     "output_type": "stream",
     "text": [
      "   Year  GDP in (Billion) $  Per Capita in rupees  Growth %\n",
      "0  2021             3173.40                182160      8.95\n",
      "1  2020             2667.69                154640     -6.60\n",
      "2  2019             2831.55                165760      3.74\n",
      "3  2018             2702.93                159840      6.45\n",
      "4  2017             2651.47                158480      6.80\n"
     ]
    }
   ],
   "source": [
    "import pandas as pd\n",
    "\n",
    "# Load the dataset\n",
    "file_path = r'C:\\Users\\HRUSHIKESH\\Downloads\\India_GDP_1960-2022.csv'  \n",
    "df = pd.read_csv(file_path)\n",
    "\n",
    "# Display the first few rows\n",
    "print(df.head())\n"
   ]
  },
  {
   "cell_type": "code",
   "execution_count": 3,
   "id": "9b286566-a4f0-44a0-9ff9-67a289f73261",
   "metadata": {},
   "outputs": [
    {
     "name": "stdout",
     "output_type": "stream",
     "text": [
      "Cross-Validation R-squared scores: [0.99874344 0.98831814 0.99591226 0.99772995 0.99610731]\n",
      "Average Cross-Validation R-squared: 0.9953622182177538\n",
      "Test R-squared: 0.9986338818789497\n",
      "Predicted GDP for New Data: [2566.90994437]\n"
     ]
    }
   ],
   "source": [
    "import numpy as np\n",
    "import pandas as pd\n",
    "from sklearn.model_selection import cross_val_score\n",
    "from sklearn.linear_model import ElasticNet\n",
    "from sklearn.model_selection import train_test_split\n",
    "from sklearn.metrics import r2_score\n",
    "\n",
    "\n",
    "# Define the target variable (GDP) and features (independent variables)\n",
    "X = df.drop(columns=['GDP in (Billion) $'])  \n",
    "y = df['GDP in (Billion) $']  # Target column\n",
    "\n",
    "# Split the data into training and testing sets\n",
    "X_train, X_test, y_train, y_test = train_test_split(X, y, test_size=0.2, random_state=42)\n",
    "\n",
    "# Initialize ElasticNet regression model\n",
    "elastic_net_model = ElasticNet(alpha=1.0, l1_ratio=0.5)  # alpha and l1_ratio are the key hyperparameters\n",
    "\n",
    "# Perform cross-validation\n",
    "cv_scores = cross_val_score(elastic_net_model, X_train, y_train, cv=5, scoring='r2')\n",
    "\n",
    "# Print cross-validation R-squared scores and average R-squared\n",
    "print(\"Cross-Validation R-squared scores:\", cv_scores)\n",
    "print(\"Average Cross-Validation R-squared:\", np.mean(cv_scores))\n",
    "\n",
    "# Fit the model to the training data\n",
    "elastic_net_model.fit(X_train, y_train)\n",
    "\n",
    "# Predict the target (GDP) for the test set\n",
    "y_pred = elastic_net_model.predict(X_test)\n",
    "\n",
    "# Calculate R-squared score on the test set\n",
    "test_r2 = r2_score(y_test, y_pred)\n",
    "print(\"Test R-squared:\", test_r2)\n",
    "\n",
    "\n",
    "new_data = pd.DataFrame({\n",
    "    'Year': [2025],\n",
    "    'Per Capita in rupees': [155320],\n",
    "    'Growth %': [6],  #\n",
    "})\n",
    "predicted_gdp = elastic_net_model.predict(new_data)\n",
    "print(\"Predicted GDP for New Data:\", predicted_gdp)\n"
   ]
  }
 ],
 "metadata": {
  "kernelspec": {
   "display_name": "Python 3 (ipykernel)",
   "language": "python",
   "name": "python3"
  },
  "language_info": {
   "codemirror_mode": {
    "name": "ipython",
    "version": 3
   },
   "file_extension": ".py",
   "mimetype": "text/x-python",
   "name": "python",
   "nbconvert_exporter": "python",
   "pygments_lexer": "ipython3",
   "version": "3.12.7"
  }
 },
 "nbformat": 4,
 "nbformat_minor": 5
}
