{
 "cells": [
  {
   "cell_type": "code",
   "execution_count": 1,
   "id": "cc548fab-3a32-4c02-9919-1590374856c1",
   "metadata": {},
   "outputs": [
    {
     "name": "stdout",
     "output_type": "stream",
     "text": [
      "   Year  GDP in (Billion) $  Per Capita in rupees  Growth %\n",
      "0  2021             3173.40                182160      8.95\n",
      "1  2020             2667.69                154640     -6.60\n",
      "2  2019             2831.55                165760      3.74\n",
      "3  2018             2702.93                159840      6.45\n",
      "4  2017             2651.47                158480      6.80\n"
     ]
    }
   ],
   "source": [
    "import pandas as pd\n",
    "\n",
    "# Load the dataset\n",
    "file_path = r'C:\\Users\\HRUSHIKESH\\Downloads\\India_GDP_1960-2022.csv'  \n",
    "df = pd.read_csv(file_path)\n",
    "\n",
    "# Display the first few rows\n",
    "print(df.head())\n"
   ]
  },
  {
   "cell_type": "code",
   "execution_count": 2,
   "id": "dd1089bf-537b-4acc-bfd2-61f1181579f8",
   "metadata": {},
   "outputs": [],
   "source": [
    "X = df[['Year', 'Per Capita in rupees', 'Growth %']]\n",
    "y = df['GDP in (Billion) $']"
   ]
  },
  {
   "cell_type": "code",
   "execution_count": 4,
   "id": "c9d08d8e-6e0d-4410-8893-db4a723a42bb",
   "metadata": {},
   "outputs": [
    {
     "name": "stdout",
     "output_type": "stream",
     "text": [
      "Fitting 5 folds for each of 144 candidates, totalling 720 fits\n",
      "Best Parameters: {'colsample_bytree': 0.8, 'learning_rate': 0.1, 'max_depth': 3, 'n_estimators': 50, 'subsample': 0.8}\n",
      "R-squared (Test Set): 0.9734558673322943\n",
      "Mean Squared Error (Test Set): 26291.072454711797\n",
      "Cross-Validation R-squared scores: [0.95873851 0.93993482 0.88406522 0.99082122 0.96606184]\n",
      "Average Cross-Validation R-squared: 0.9479243220098272\n",
      "Predicted GDP for New Data: 2641.8928\n"
     ]
    }
   ],
   "source": [
    "# Import required libraries\n",
    "import pandas as pd\n",
    "import numpy as np\n",
    "from sklearn.model_selection import train_test_split, cross_val_score, GridSearchCV\n",
    "from sklearn.preprocessing import StandardScaler, PolynomialFeatures\n",
    "from sklearn.metrics import mean_squared_error, r2_score\n",
    "from xgboost import XGBRegressor\n",
    "\n",
    "\n",
    "\n",
    "# Step 1: Apply polynomial feature transformation (degree 2)\n",
    "poly = PolynomialFeatures(degree=2, include_bias=False)\n",
    "X_poly = poly.fit_transform(X)\n",
    "\n",
    "# Step 2: Scale the features\n",
    "scaler = StandardScaler()\n",
    "X_scaled = scaler.fit_transform(X_poly)\n",
    "\n",
    "# Step 3: Split data into training and testing sets\n",
    "X_train, X_test, y_train, y_test = train_test_split(X_scaled, y, test_size=0.2, random_state=42)\n",
    "\n",
    "# Step 4: Perform Grid Search to find the best parameters for XGBoost\n",
    "xgb = XGBRegressor(objective='reg:squarederror', random_state=42)\n",
    "\n",
    "param_grid = {\n",
    "    'n_estimators': [50, 100, 150],\n",
    "    'max_depth': [3, 5, 7, 10],\n",
    "    'learning_rate': [0.01, 0.1, 0.2],\n",
    "    'subsample': [0.8, 1.0],\n",
    "    'colsample_bytree': [0.8, 1.0]\n",
    "}\n",
    "\n",
    "grid_search = GridSearchCV(estimator=xgb, param_grid=param_grid, cv=5, scoring='r2', n_jobs=-1, verbose=2)\n",
    "grid_search.fit(X_train, y_train)\n",
    "\n",
    "# Get the best parameters\n",
    "best_params = grid_search.best_params_\n",
    "print(\"Best Parameters:\", best_params)\n",
    "\n",
    "# Step 5: Train the optimal XGBoost model\n",
    "xgb_optimal = XGBRegressor(**best_params, objective='reg:squarederror', random_state=42)\n",
    "xgb_optimal.fit(X_train, y_train)\n",
    "\n",
    "# Step 6: Evaluate the model on the test set\n",
    "y_pred_test = xgb_optimal.predict(X_test)\n",
    "print(\"R-squared (Test Set):\", r2_score(y_test, y_pred_test))\n",
    "print(\"Mean Squared Error (Test Set):\", mean_squared_error(y_test, y_pred_test))\n",
    "\n",
    "# Step 7: Cross-validation with the optimal model\n",
    "cv_scores = cross_val_score(xgb_optimal, X_train, y_train, cv=5, scoring='r2')\n",
    "print(\"Cross-Validation R-squared scores:\", cv_scores)\n",
    "print(\"Average Cross-Validation R-squared:\", np.mean(cv_scores))\n",
    "\n",
    "# Step 8: Predict GDP for new data \n",
    "new_data = pd.DataFrame({'Year': [2025], 'Per Capita in rupees': [155320], 'Growth %': [6]})\n",
    "\n",
    "# Scale and transform the new data\n",
    "new_data_scaled = scaler.transform(poly.transform(new_data))\n",
    "\n",
    "# Predict GDP for the new data\n",
    "predicted_gdp = xgb_optimal.predict(new_data_scaled)\n",
    "print(\"Predicted GDP for New Data:\", predicted_gdp[0])\n"
   ]
  }
 ],
 "metadata": {
  "kernelspec": {
   "display_name": "Python 3 (ipykernel)",
   "language": "python",
   "name": "python3"
  },
  "language_info": {
   "codemirror_mode": {
    "name": "ipython",
    "version": 3
   },
   "file_extension": ".py",
   "mimetype": "text/x-python",
   "name": "python",
   "nbconvert_exporter": "python",
   "pygments_lexer": "ipython3",
   "version": "3.12.7"
  }
 },
 "nbformat": 4,
 "nbformat_minor": 5
}
