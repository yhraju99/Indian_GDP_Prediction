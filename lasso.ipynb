{
 "cells": [
  {
   "cell_type": "code",
   "execution_count": 7,
   "id": "f00d26b8-6752-4908-ab0b-d1f531b0869c",
   "metadata": {},
   "outputs": [
    {
     "name": "stdout",
     "output_type": "stream",
     "text": [
      "   Year  GDP in (Billion) $  Per Capita in rupees  Growth %\n",
      "0  2021             3173.40                182160      8.95\n",
      "1  2020             2667.69                154640     -6.60\n",
      "2  2019             2831.55                165760      3.74\n",
      "3  2018             2702.93                159840      6.45\n",
      "4  2017             2651.47                158480      6.80\n"
     ]
    }
   ],
   "source": [
    "import pandas as pd\n",
    "\n",
    "# Load the dataset\n",
    "file_path = r'C:\\Users\\HRUSHIKESH\\Downloads\\India_GDP_1960-2022.csv'  \n",
    "df = pd.read_csv(file_path)\n",
    "\n",
    "# Display the first few rows\n",
    "print(df.head())\n"
   ]
  },
  {
   "cell_type": "code",
   "execution_count": 8,
   "id": "e07a76bf-8431-4110-8db1-07b0bf0477dd",
   "metadata": {},
   "outputs": [],
   "source": [
    "X = df[['Year', 'Per Capita in rupees', 'Growth %']]\n",
    "y = df['GDP in (Billion) $']"
   ]
  },
  {
   "cell_type": "code",
   "execution_count": 9,
   "id": "b4368a49-6da4-4ce2-a1a5-71b04b3dea56",
   "metadata": {},
   "outputs": [
    {
     "name": "stdout",
     "output_type": "stream",
     "text": [
      "R-squared (Lasso): 0.9999695301704763\n",
      "MSE (Lasso): 30.179343424734256\n",
      "Predicted GDP (Lasso): 2861.2628936383444\n"
     ]
    }
   ],
   "source": [
    "from sklearn.linear_model import Lasso\n",
    "from sklearn.model_selection import train_test_split\n",
    "from sklearn.preprocessing import StandardScaler, PolynomialFeatures\n",
    "from sklearn.metrics import mean_squared_error, r2_score\n",
    "import pandas as pd\n",
    "\n",
    "# Assuming X and y are already defined\n",
    "\n",
    "# Step 1: Scale the data\n",
    "scaler = StandardScaler()\n",
    "X_scaled = scaler.fit_transform(X)\n",
    "\n",
    "# Step 2: Add polynomial features (e.g., degree 2)\n",
    "poly = PolynomialFeatures(degree=2, include_bias=False)\n",
    "X_poly = poly.fit_transform(X_scaled)\n",
    "\n",
    "# Step 3: Split into training and testing sets\n",
    "X_train_poly, X_test_poly, y_train, y_test = train_test_split(X_poly, y, test_size=0.2, random_state=42)\n",
    "\n",
    "# Step 4: Train Lasso Regression with polynomial features\n",
    "lasso_model = Lasso(alpha=0.1, max_iter=10000, random_state=42)  \n",
    "lasso_model.fit(X_train_poly, y_train)\n",
    "\n",
    "# Step 5: Evaluate the model\n",
    "y_pred_poly = lasso_model.predict(X_test_poly)\n",
    "print(\"R-squared (Lasso):\", r2_score(y_test, y_pred_poly))\n",
    "print(\"MSE (Lasso):\", mean_squared_error(y_test, y_pred_poly))\n",
    "\n",
    "# Step 6: Predict GDP for new data \n",
    "new_data = pd.DataFrame({'Year': [2025], 'Per Capita in rupees': [155320], 'Growth %': [6]})\n",
    "\n",
    "# Step 7: Scale the new data using the fitted scaler\n",
    "new_data_scaled = scaler.transform(new_data)\n",
    "\n",
    "# Step 8: Add polynomial features to the scaled new data\n",
    "new_data_poly = poly.transform(new_data_scaled)\n",
    "\n",
    "# Step 9: Predict GDP for the new data\n",
    "predicted_gdp_poly = lasso_model.predict(new_data_poly)\n",
    "print(\"Predicted GDP (Lasso):\", predicted_gdp_poly[0])\n"
   ]
  },
  {
   "cell_type": "code",
   "execution_count": 11,
   "id": "f5ba043c-2739-4b71-bfca-1af466281e23",
   "metadata": {},
   "outputs": [],
   "source": [
    "df['years_since_start'] = df['Year'] - df['Year'].min()\n",
    "X = df[['years_since_start', 'Per Capita in rupees', 'Growth %']]"
   ]
  },
  {
   "cell_type": "code",
   "execution_count": 12,
   "id": "eab43efa-fcaa-420d-98cb-e47a94bdbf52",
   "metadata": {},
   "outputs": [
    {
     "name": "stdout",
     "output_type": "stream",
     "text": [
      "R-squared (Lasso): 0.9999695301704763\n",
      "MSE (Lasso): 30.179343424734256\n",
      "Predicted GDP (Lasso): 169639.97702296247\n"
     ]
    }
   ],
   "source": [
    "from sklearn.linear_model import Lasso\n",
    "from sklearn.model_selection import train_test_split\n",
    "from sklearn.preprocessing import StandardScaler, PolynomialFeatures\n",
    "from sklearn.metrics import mean_squared_error, r2_score\n",
    "import pandas as pd\n",
    "\n",
    "# Assuming X and y are already defined\n",
    "\n",
    "# Step 1: Scale the data\n",
    "scaler = StandardScaler()\n",
    "X_scaled = scaler.fit_transform(X)\n",
    "\n",
    "# Step 2: Add polynomial features \n",
    "poly = PolynomialFeatures(degree=2, include_bias=False)\n",
    "X_poly = poly.fit_transform(X_scaled)\n",
    "\n",
    "# Step 3: Split into training and testing sets\n",
    "X_train_poly, X_test_poly, y_train, y_test = train_test_split(X_poly, y, test_size=0.2, random_state=42)\n",
    "\n",
    "# Step 4: Train Lasso Regression with polynomial features\n",
    "lasso_model = Lasso(alpha=0.1, max_iter=10000, random_state=42)  \n",
    "lasso_model.fit(X_train_poly, y_train)\n",
    "\n",
    "# Step 5: Evaluate the model\n",
    "y_pred_poly = lasso_model.predict(X_test_poly)\n",
    "print(\"R-squared (Lasso):\", r2_score(y_test, y_pred_poly))\n",
    "print(\"MSE (Lasso):\", mean_squared_error(y_test, y_pred_poly))\n",
    "\n",
    "# Step 6: Predict GDP for new data \n",
    "new_data = pd.DataFrame({'years_since_start': [2025], 'Per Capita in rupees': [155320], 'Growth %': [6]})\n",
    "\n",
    "# Step 7: Scale the new data using the fitted scaler\n",
    "new_data_scaled = scaler.transform(new_data)\n",
    "\n",
    "# Step 8: Add polynomial features to the scaled new data\n",
    "new_data_poly = poly.transform(new_data_scaled)\n",
    "\n",
    "# Step 9: Predict GDP for the new data\n",
    "predicted_gdp_poly = lasso_model.predict(new_data_poly)\n",
    "print(\"Predicted GDP (Lasso):\", predicted_gdp_poly[0])\n"
   ]
  },
  {
   "cell_type": "code",
   "execution_count": 14,
   "id": "9a725e16-315f-475d-b9ab-2ffde15f8843",
   "metadata": {},
   "outputs": [],
   "source": [
    "X = df[['Year', 'Per Capita in rupees', 'Growth %']]\n",
    "y = df['GDP in (Billion) $']"
   ]
  },
  {
   "cell_type": "code",
   "execution_count": null,
   "id": "5f2aa8a5-8744-4b6d-bee4-bb4eb5f445aa",
   "metadata": {},
   "outputs": [],
   "source": [
    "#the following is with cross validation"
   ]
  },
  {
   "cell_type": "code",
   "execution_count": 16,
   "id": "c6a71725-e07b-4ba9-9069-00ada1868440",
   "metadata": {},
   "outputs": [
    {
     "name": "stdout",
     "output_type": "stream",
     "text": [
      "Average Cross-Validation R-squared: 0.8097802261978544\n",
      "Cross-Validation MSE: 187.6585517462532\n",
      "Predicted GDP (Lasso with Cross-Validation): 2858.8594964179915\n"
     ]
    }
   ],
   "source": [
    "from sklearn.linear_model import Lasso\n",
    "from sklearn.model_selection import cross_val_score, cross_val_predict\n",
    "from sklearn.preprocessing import PolynomialFeatures, StandardScaler\n",
    "from sklearn.metrics import mean_squared_error, r2_score\n",
    "import numpy as np\n",
    "import pandas as pd\n",
    "\n",
    "\n",
    "\n",
    "# Step 1: Scale the data\n",
    "scaler = StandardScaler()\n",
    "X_scaled = scaler.fit_transform(X)\n",
    "\n",
    "# Step 2: Add polynomial features (e.g., degree 2)\n",
    "poly = PolynomialFeatures(degree=2, include_bias=False)\n",
    "X_poly = poly.fit_transform(X_scaled)\n",
    "\n",
    "# Step 3: Initialize the Lasso model\n",
    "lasso_model = Lasso(alpha=0.1, max_iter=10000, random_state=42)  # Adjust alpha as needed\n",
    "\n",
    "# Step 4: Perform Cross-Validation\n",
    "cv_scores = cross_val_score(lasso_model, X_poly, y, cv=5, scoring='r2')  # 5-fold CV\n",
    "cv_predictions = cross_val_predict(lasso_model, X_poly, y, cv=5)\n",
    "\n",
    "# Step 5: Calculate Cross-Validation Metrics\n",
    "cv_mse = mean_squared_error(y, cv_predictions)\n",
    "cv_r2 = r2_score(y, cv_predictions)\n",
    "\n",
    "print(\"Average Cross-Validation R-squared:\", np.mean(cv_scores))\n",
    "print(\"Cross-Validation MSE:\", cv_mse)\n",
    "\n",
    "# Step 6: Train the Lasso model on the full dataset\n",
    "lasso_model.fit(X_poly, y)\n",
    "\n",
    "# Step 7: Predict GDP for new data \n",
    "new_data = pd.DataFrame({'Year': [2025], 'Per Capita in rupees': [155320], 'Growth %': [6]})\n",
    "new_data_scaled = scaler.transform(new_data)\n",
    "new_data_poly = poly.transform(new_data_scaled)\n",
    "\n",
    "predicted_gdp_poly = lasso_model.predict(new_data_poly)\n",
    "print(\"Predicted GDP (Lasso with Cross-Validation):\", predicted_gdp_poly[0])\n"
   ]
  }
 ],
 "metadata": {
  "kernelspec": {
   "display_name": "Python 3 (ipykernel)",
   "language": "python",
   "name": "python3"
  },
  "language_info": {
   "codemirror_mode": {
    "name": "ipython",
    "version": 3
   },
   "file_extension": ".py",
   "mimetype": "text/x-python",
   "name": "python",
   "nbconvert_exporter": "python",
   "pygments_lexer": "ipython3",
   "version": "3.12.7"
  }
 },
 "nbformat": 4,
 "nbformat_minor": 5
}
