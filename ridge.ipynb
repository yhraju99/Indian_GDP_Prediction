{
 "cells": [
  {
   "cell_type": "code",
   "execution_count": null,
   "id": "881c280f-169e-4b99-8a8d-dfdbc581641d",
   "metadata": {},
   "outputs": [],
   "source": []
  },
  {
   "cell_type": "code",
   "execution_count": 11,
   "id": "38a37fd6-284c-4441-b32a-1b7f291b2a6b",
   "metadata": {},
   "outputs": [
    {
     "name": "stdout",
     "output_type": "stream",
     "text": [
      "   Year  GDP in (Billion) $  Per Capita in rupees  Growth %\n",
      "0  2021             3173.40                182160      8.95\n",
      "1  2020             2667.69                154640     -6.60\n",
      "2  2019             2831.55                165760      3.74\n",
      "3  2018             2702.93                159840      6.45\n",
      "4  2017             2651.47                158480      6.80\n"
     ]
    }
   ],
   "source": [
    "import pandas as pd\n",
    "\n",
    "# Load the dataset\n",
    "file_path = r'C:\\Users\\HRUSHIKESH\\Downloads\\India_GDP_1960-2022.csv'  \n",
    "df = pd.read_csv(file_path)\n",
    "\n",
    "# Display the first few rows\n",
    "print(df.head())\n"
   ]
  },
  {
   "cell_type": "code",
   "execution_count": 12,
   "id": "de601aa2-6dc4-429e-bf93-c06737bf4605",
   "metadata": {},
   "outputs": [
    {
     "name": "stdout",
     "output_type": "stream",
     "text": [
      "Average Cross-Validation MSE: 4166.231142850316\n",
      "R-squared: 0.9955099486834471\n",
      "Mean Squared Error: 4447.245120669813\n",
      "Predicted GDP for Year 2025, Per Capita 2000, Growth 5%: 2528.2171530578134\n"
     ]
    }
   ],
   "source": [
    "import pandas as pd\n",
    "from sklearn.linear_model import Ridge\n",
    "from sklearn.model_selection import train_test_split, cross_val_score\n",
    "from sklearn.preprocessing import StandardScaler\n",
    "from sklearn.metrics import mean_squared_error, r2_score\n",
    "\n",
    "\n",
    "# Prepare features (X) and target (y)\n",
    "X = df[['Year', 'Per Capita in rupees', 'Growth %']]\n",
    "y = df['GDP in (Billion) $']\n",
    "\n",
    "# Step 1: Split the data into training and testing sets (80-20 split)\n",
    "X_train, X_test, y_train, y_test = train_test_split(X, y, test_size=0.2, random_state=42)\n",
    "\n",
    "# Step 2: Apply StandardScaler for feature scaling\n",
    "scaler = StandardScaler()\n",
    "\n",
    "# Fit the scaler on the training data and transform both training and testing data\n",
    "X_train_scaled = scaler.fit_transform(X_train)\n",
    "X_test_scaled = scaler.transform(X_test)\n",
    "\n",
    "# Step 3: Initialize and train the Ridge Regression model\n",
    "ridge_model = Ridge(alpha=1.0)  \n",
    "\n",
    "# Step 4: Perform cross-validation to evaluate model's generalization\n",
    "cv_scores = cross_val_score(ridge_model, X_train_scaled, y_train, cv=5, scoring='neg_mean_squared_error')\n",
    "\n",
    "# Print average cross-validation score (MSE)\n",
    "print(f\"Average Cross-Validation MSE: {-cv_scores.mean()}\")\n",
    "\n",
    "# Step 5: Train the model on the full training data\n",
    "ridge_model.fit(X_train_scaled, y_train)\n",
    "\n",
    "# Step 6: Make predictions on the test set\n",
    "y_pred = ridge_model.predict(X_test_scaled)\n",
    "\n",
    "# Step 7: Evaluate model performance\n",
    "r2 = r2_score(y_test, y_pred)\n",
    "mse = mean_squared_error(y_test, y_pred)\n",
    "\n",
    "print(f\"R-squared: {r2}\")\n",
    "print(f\"Mean Squared Error: {mse}\")\n",
    "\n",
    "# Step 8: Predict GDP for new data \n",
    "new_data = pd.DataFrame({'Year': [2025], 'Per Capita in rupees': [155320], 'Growth %': [6]})\n",
    "\n",
    "# Scale the new data using the fitted scaler\n",
    "new_data_scaled = scaler.transform(new_data)\n",
    "\n",
    "# Predict GDP for the new data point\n",
    "predicted_gdp = ridge_model.predict(new_data_scaled)\n",
    "print(f\"Predicted GDP for Year 2025, Per Capita 2000, Growth 5%: {predicted_gdp[0]}\")\n"
   ]
  },
  {
   "cell_type": "code",
   "execution_count": 14,
   "id": "ff44fce1-630a-420c-9adb-cd6a10606c93",
   "metadata": {},
   "outputs": [],
   "source": [
    "df['years_since_start'] = df['Year'] - df['Year'].min()\n",
    "X = df[['years_since_start', 'Per Capita in rupees', 'Growth %']]"
   ]
  },
  {
   "cell_type": "code",
   "execution_count": 15,
   "id": "264aa940-5dcb-4466-8266-65a8b4c98f5b",
   "metadata": {},
   "outputs": [
    {
     "name": "stdout",
     "output_type": "stream",
     "text": [
      "Average Cross-Validation MSE: 4166.231142850311\n",
      "R-squared: 0.9955099486834471\n",
      "Mean Squared Error: 4447.245120669823\n",
      "Predicted GDP for Year 2025, Per Capita 2000, Growth 5%: 3647.723343092628\n"
     ]
    }
   ],
   "source": [
    "import pandas as pd\n",
    "from sklearn.linear_model import Ridge\n",
    "from sklearn.model_selection import train_test_split, cross_val_score\n",
    "from sklearn.preprocessing import StandardScaler\n",
    "from sklearn.metrics import mean_squared_error, r2_score\n",
    "\n",
    "\n",
    "# Prepare features (X) and target (y)\n",
    "X = df[['years_since_start', 'Per Capita in rupees', 'Growth %']]\n",
    "y = df['GDP in (Billion) $']\n",
    "\n",
    "# Step 1: Split the data into training and testing sets (80-20 split)\n",
    "X_train, X_test, y_train, y_test = train_test_split(X, y, test_size=0.2, random_state=42)\n",
    "\n",
    "# Step 2: Apply StandardScaler for feature scaling\n",
    "scaler = StandardScaler()\n",
    "\n",
    "# Fit the scaler on the training data and transform both training and testing data\n",
    "X_train_scaled = scaler.fit_transform(X_train)\n",
    "X_test_scaled = scaler.transform(X_test)\n",
    "\n",
    "# Step 3: Initialize and train the Ridge Regression model\n",
    "ridge_model = Ridge(alpha=1.0)  \n",
    "\n",
    "# Step 4: Perform cross-validation to evaluate model's generalization\n",
    "cv_scores = cross_val_score(ridge_model, X_train_scaled, y_train, cv=5, scoring='neg_mean_squared_error')\n",
    "\n",
    "# Print average cross-validation score (MSE)\n",
    "print(f\"Average Cross-Validation MSE: {-cv_scores.mean()}\")\n",
    "\n",
    "# Step 5: Train the model on the full training data\n",
    "ridge_model.fit(X_train_scaled, y_train)\n",
    "\n",
    "# Step 6: Make predictions on the test set\n",
    "y_pred = ridge_model.predict(X_test_scaled)\n",
    "\n",
    "# Step 7: Evaluate model performance\n",
    "r2 = r2_score(y_test, y_pred)\n",
    "mse = mean_squared_error(y_test, y_pred)\n",
    "\n",
    "print(f\"R-squared: {r2}\")\n",
    "print(f\"Mean Squared Error: {mse}\")\n",
    "\n",
    "# Step 8: Predict GDP for new data \n",
    "new_data = pd.DataFrame({'years_since_start': [2025], 'Per Capita in rupees': [155320], 'Growth %': [6]})\n",
    "\n",
    "# Scale the new data using the fitted scaler\n",
    "new_data_scaled = scaler.transform(new_data)\n",
    "\n",
    "# Predict GDP for the new data point\n",
    "predicted_gdp = ridge_model.predict(new_data_scaled)\n",
    "print(f\"Predicted GDP for Year 2025, Per Capita 2000, Growth 5%: {predicted_gdp[0]}\")\n"
   ]
  }
 ],
 "metadata": {
  "kernelspec": {
   "display_name": "Python 3 (ipykernel)",
   "language": "python",
   "name": "python3"
  },
  "language_info": {
   "codemirror_mode": {
    "name": "ipython",
    "version": 3
   },
   "file_extension": ".py",
   "mimetype": "text/x-python",
   "name": "python",
   "nbconvert_exporter": "python",
   "pygments_lexer": "ipython3",
   "version": "3.12.7"
  }
 },
 "nbformat": 4,
 "nbformat_minor": 5
}
