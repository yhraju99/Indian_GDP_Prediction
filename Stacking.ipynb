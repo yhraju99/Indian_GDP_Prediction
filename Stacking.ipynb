{
 "cells": [
  {
   "cell_type": "code",
   "execution_count": 1,
   "id": "f8be609b-8e44-4031-8d08-c4ed429a0a4d",
   "metadata": {},
   "outputs": [
    {
     "name": "stdout",
     "output_type": "stream",
     "text": [
      "   Year  GDP in (Billion) $  Per Capita in rupees  Growth %\n",
      "0  2021             3173.40                182160      8.95\n",
      "1  2020             2667.69                154640     -6.60\n",
      "2  2019             2831.55                165760      3.74\n",
      "3  2018             2702.93                159840      6.45\n",
      "4  2017             2651.47                158480      6.80\n"
     ]
    }
   ],
   "source": [
    "import pandas as pd\n",
    "\n",
    "# Load the dataset\n",
    "file_path = r'C:\\Users\\HRUSHIKESH\\Downloads\\India_GDP_1960-2022.csv' \n",
    "df = pd.read_csv(file_path)\n",
    "\n",
    "# Display the first few rows\n",
    "print(df.head())\n"
   ]
  },
  {
   "cell_type": "code",
   "execution_count": 2,
   "id": "8d027a1a-c624-40f7-938b-e1b9b5f5ac91",
   "metadata": {},
   "outputs": [],
   "source": [
    "X = df[['Year', 'Per Capita in rupees', 'Growth %']]\n",
    "y = df['GDP in (Billion) $']"
   ]
  },
  {
   "cell_type": "code",
   "execution_count": 3,
   "id": "0b4a9f89-bad7-4ee5-ab21-aed9c89c7223",
   "metadata": {},
   "outputs": [
    {
     "name": "stdout",
     "output_type": "stream",
     "text": [
      "Cross-Validation R-squared scores: [0.99122041 0.97798952 0.99233749 0.99826576 0.99702892]\n",
      "Average Cross-Validation R-squared: 0.9913684204854631\n",
      "Test R-squared: 0.9977288556254187\n"
     ]
    }
   ],
   "source": [
    "import numpy as np\n",
    "import pandas as pd\n",
    "from sklearn.model_selection import train_test_split, cross_val_score\n",
    "from sklearn.linear_model import LinearRegression\n",
    "from sklearn.tree import DecisionTreeRegressor\n",
    "from sklearn.ensemble import RandomForestRegressor\n",
    "from sklearn.ensemble import StackingRegressor\n",
    "from sklearn.metrics import r2_score\n",
    "\n",
    "\n",
    "# Split the data into training and testing sets\n",
    "X_train, X_test, y_train, y_test = train_test_split(X, y, test_size=0.2, random_state=42)\n",
    "\n",
    "# Base models (level-0 models)\n",
    "base_learners = [\n",
    "    ('lr', LinearRegression()),\n",
    "    ('dt', DecisionTreeRegressor(random_state=42)),\n",
    "    ('rf', RandomForestRegressor(n_estimators=100, random_state=42))\n",
    "]\n",
    "\n",
    "# Meta-model (level-1 model)\n",
    "meta_model = LinearRegression()\n",
    "\n",
    "# Create the stacking model\n",
    "stacking_model = StackingRegressor(estimators=base_learners, final_estimator=meta_model)\n",
    "\n",
    "# Train the stacking model\n",
    "stacking_model.fit(X_train, y_train)\n",
    "\n",
    "# Evaluate using cross-validation\n",
    "cv_scores = cross_val_score(stacking_model, X_train, y_train, cv=5, scoring='r2')\n",
    "print(f'Cross-Validation R-squared scores: {cv_scores}')\n",
    "print(f'Average Cross-Validation R-squared: {cv_scores.mean()}')\n",
    "\n",
    "# Predict on test set\n",
    "y_pred = stacking_model.predict(X_test)\n",
    "\n",
    "# Calculate R-squared on test set\n",
    "test_r2 = r2_score(y_test, y_pred)\n",
    "print(f'Test R-squared: {test_r2}')\n",
    "\n",
    "\n"
   ]
  },
  {
   "cell_type": "code",
   "execution_count": 4,
   "id": "e0508f26-35ac-4a0b-a3b7-a15c5e041348",
   "metadata": {},
   "outputs": [
    {
     "name": "stdout",
     "output_type": "stream",
     "text": [
      "Predicted GDP for New Data: [2617.05268334]\n"
     ]
    }
   ],
   "source": [
    "new_data = pd.DataFrame({\n",
    "    'Year': [2025],\n",
    "    'Per Capita in rupees': [155320],\n",
    "    'Growth %': [6],  \n",
    "    \n",
    "})\n",
    "predicted_gdp = stacking_model.predict(new_data)\n",
    "print(f'Predicted GDP for New Data: {predicted_gdp}')"
   ]
  }
 ],
 "metadata": {
  "kernelspec": {
   "display_name": "Python 3 (ipykernel)",
   "language": "python",
   "name": "python3"
  },
  "language_info": {
   "codemirror_mode": {
    "name": "ipython",
    "version": 3
   },
   "file_extension": ".py",
   "mimetype": "text/x-python",
   "name": "python",
   "nbconvert_exporter": "python",
   "pygments_lexer": "ipython3",
   "version": "3.12.7"
  }
 },
 "nbformat": 4,
 "nbformat_minor": 5
}
